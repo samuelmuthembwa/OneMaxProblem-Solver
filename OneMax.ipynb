{
  "nbformat": 4,
  "nbformat_minor": 0,
  "metadata": {
    "colab": {
      "provenance": []
    },
    "kernelspec": {
      "name": "python3",
      "display_name": "Python 3"
    },
    "language_info": {
      "name": "python"
    }
  },
  "cells": [
    {
      "cell_type": "code",
      "source": [
        "from IPython.utils.path import random\n",
        "import math\n",
        "import numpy as np"
      ],
      "metadata": {
        "id": "8msBDJMbsD_v"
      },
      "execution_count": 9,
      "outputs": []
    },
    {
      "cell_type": "code",
      "execution_count": 3,
      "metadata": {
        "id": "-DUjzahjbeMA"
      },
      "outputs": [],
      "source": [
        "POPULATION_SIZE = 20\n",
        "CHROMOSOME_LENGTH = 10"
      ]
    },
    {
      "cell_type": "code",
      "source": [
        "class Chromosome: \n",
        "  def __init__(self, gene):\n",
        "    self.genes = gene\n",
        "\n",
        "  def get_fitness(self):\n",
        "    _fitness = 0\n",
        "    for gene in self.genes:\n",
        "      if gene == 1:\n",
        "        _fitness +=1\n",
        "    return (_fitness/len(self.genes))*100\n",
        "\n",
        "  def mutate(self):\n",
        "    random_index = random.randrange(0, len(self.genes))\n",
        "    new_gene = random.choice([0,1])\n",
        "    self.genes[random_index] = new_gene\n",
        "    return self.genes\n",
        "  \n",
        "  def array_convertor(self):\n",
        "    return self.genes\n",
        "\n",
        "\n",
        "  def __str__(self):\n",
        "    return f\"Chromosome: {self.genes}\""
      ],
      "metadata": {
        "id": "-_iiM5nPc5vT"
      },
      "execution_count": 4,
      "outputs": []
    },
    {
      "cell_type": "code",
      "source": [
        "def elitism(population):\n",
        "  population_data = []\n",
        "  for i in range(0, len(population)):\n",
        "    c_fitness = population[i].get_fitness()\n",
        "    population_data.append({\"Fitness\":c_fitness , \"Chromosome\": population[i]})\n",
        "  population_data = sorted(population_data, key=lambda k: k['Fitness'], reverse=True)\n",
        "  return population_data[0][\"Chromosome\"], population_data[1][\"Chromosome\"]"
      ],
      "metadata": {
        "id": "Zzv1D5M5h92k"
      },
      "execution_count": 5,
      "outputs": []
    },
    {
      "cell_type": "code",
      "source": [
        "def crossover(chromosomeA, chromosomeB):\n",
        "  a = chromosomeA.array_convertor()\n",
        "  b = chromosomeB.array_convertor()\n",
        "  splitting_index = math.floor(len(a)/2)\n",
        "\n",
        "  crossoverA = a[:splitting_index] + b[splitting_index:]\n",
        "  crossoverB = b[:splitting_index] + a[splitting_index:]\n",
        "\n",
        "  cA = Chromosome(crossoverA)\n",
        "  cB = Chromosome(crossoverB)\n",
        "  return cA, cB"
      ],
      "metadata": {
        "id": "yIzMl5prrF0K"
      },
      "execution_count": 6,
      "outputs": []
    },
    {
      "cell_type": "code",
      "source": [
        "def initialize_population(chromosome_length, population_size):\n",
        "  initial_population = []\n",
        "  for i in range(0, population_size):\n",
        "    arr = random.choices([0,1], k = chromosome_length)\n",
        "    c = Chromosome(arr)\n",
        "    initial_population.append(c)\n",
        "  return initial_population"
      ],
      "metadata": {
        "id": "F-xmBx4ZzDjH"
      },
      "execution_count": 7,
      "outputs": []
    },
    {
      "cell_type": "code",
      "source": [
        "%%time\n",
        "def generate_solution(chromosome_length, population_size):\n",
        "  population = initialize_population(chromosome_length, population_size)\n",
        "  c1, c2 = elitism(population)\n",
        "  generation_number = 0\n",
        "  while True:\n",
        "    c1_fitness = c1.get_fitness()\n",
        "    c2_fitness = c2.get_fitness()\n",
        "    print(\"Generation Number: {}\".format(generation_number))\n",
        "    # Check Fitness\n",
        "    if c1_fitness >= 100:\n",
        "      print(\"\\nSolution Found : {}\".format(c1))\n",
        "      break\n",
        "    if c2_fitness >= 100:\n",
        "      print(\"\\nSolution Found : {}\\n\".format(c2))\n",
        "      break\n",
        "    \n",
        "    # CrossOver\n",
        "    ca, cb = crossover(c1,c2)\n",
        "\n",
        "    # Mutate\n",
        "    c1 = ca.mutate()\n",
        "    c1 = Chromosome(c1)\n",
        "    c2 = cb.mutate()\n",
        "    c2 = Chromosome(c2)\n",
        "\n",
        "    generation_number +=1\n",
        "\n",
        "\n",
        "generate_solution(chromosome_length = CHROMOSOME_LENGTH, population_size = POPULATION_SIZE)"
      ],
      "metadata": {
        "colab": {
          "base_uri": "https://localhost:8080/"
        },
        "id": "t4E_Y0291Feh",
        "outputId": "9c66a0a4-20c4-44fa-baaf-6b45d36a8540"
      },
      "execution_count": 12,
      "outputs": [
        {
          "output_type": "stream",
          "name": "stdout",
          "text": [
            "Generation Number: 0\n",
            "Generation Number: 1\n",
            "Generation Number: 2\n",
            "Generation Number: 3\n",
            "Generation Number: 4\n",
            "Generation Number: 5\n",
            "Generation Number: 6\n",
            "Generation Number: 7\n",
            "Generation Number: 8\n",
            "Generation Number: 9\n",
            "Generation Number: 10\n",
            "Generation Number: 11\n",
            "Generation Number: 12\n",
            "Generation Number: 13\n",
            "Generation Number: 14\n",
            "Generation Number: 15\n",
            "Generation Number: 16\n",
            "\n",
            "Solution Found : Chromosome: [1, 1, 1, 1, 1, 1, 1, 1, 1, 1]\n",
            "CPU times: user 1.3 ms, sys: 0 ns, total: 1.3 ms\n",
            "Wall time: 979 µs\n"
          ]
        }
      ]
    }
  ]
}